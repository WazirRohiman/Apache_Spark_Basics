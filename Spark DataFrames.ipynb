{
 "cells": [
  {
   "cell_type": "markdown",
   "id": "ee2531ea",
   "metadata": {},
   "source": [
    "# **Introduction to DataFrames**"
   ]
  },
  {
   "cell_type": "markdown",
   "id": "eb704aa5",
   "metadata": {},
   "source": [
    "A DataFrame is two-dimensional. Columns can be of different data types. DataFrames accept many data inputs including series and other DataFrames. You can pass indexes (row labels) and columns (column labels). Indexes can be numbers, dates, or strings/tuples.\n",
    "\n",
    "After completing this lab you will be able to:\n"
   ]
  },
  {
   "cell_type": "markdown",
   "id": "55abed74",
   "metadata": {},
   "source": [
    "* Load a data file into a DataFrame\n",
    "* View the data schema of a DataFrame\n",
    "* Perform basic data manipulation\n",
    "* Aggregate data in a DataFrame\n"
   ]
  },
  {
   "cell_type": "markdown",
   "id": "405ffd38",
   "metadata": {},
   "source": [
    "## Setup\n"
   ]
  },
  {
   "cell_type": "markdown",
   "id": "bec5f925",
   "metadata": {},
   "source": [
    "For this lab, we are going to be using Python and Spark (PySpark). These libraries should be installed in your lab environment or in SN Labs.\n",
    "\n",
    "\n",
    "Pandas is a popular data science package for Python. In this lab, we use Pandas to load a CSV file from disc to a pandas dataframe in memory. PySpark is the Spark API for Python. In this lab, we use PySpark to initialize the spark context.\n"
   ]
  },
  {
   "cell_type": "code",
   "execution_count": null,
   "id": "1a547632",
   "metadata": {},
   "outputs": [],
   "source": [
    "# Installing required packages\n",
    "# Note that if you already have these packages installed, there is no need to install them again so the follow will be commented out\n",
    "'''\n",
    "!pip install pyspark\n",
    "!pip install findspark\n",
    "!pip install pandas\n",
    "'''"
   ]
  },
  {
   "cell_type": "code",
   "execution_count": 2,
   "id": "7c3e900e",
   "metadata": {},
   "outputs": [],
   "source": [
    "#import and initialize findspark\n",
    "import findspark\n",
    "findspark.init()"
   ]
  },
  {
   "cell_type": "code",
   "execution_count": 3,
   "id": "2d1bc761",
   "metadata": {},
   "outputs": [],
   "source": [
    "import pandas as pd\n",
    "from pyspark import SparkContext, SparkConf\n",
    "from pyspark.sql import SparkSession"
   ]
  },
  {
   "cell_type": "markdown",
   "id": "874eb94a",
   "metadata": {},
   "source": [
    "## Exercise 1 -  Spark session"
   ]
  },
  {
   "cell_type": "markdown",
   "id": "f12e72d6",
   "metadata": {},
   "source": [
    "Create and initialize the Spark session needed to load the dataframes and operate on it"
   ]
  },
  {
   "cell_type": "markdown",
   "id": "7e2f7657",
   "metadata": {},
   "source": [
    "#### Task 1: Creating the spark session and context\n"
   ]
  },
  {
   "cell_type": "code",
   "execution_count": 4,
   "id": "5682261f",
   "metadata": {},
   "outputs": [],
   "source": [
    "# Create a spark context class\n",
    "sc = SparkContext()\n",
    "\n",
    "# Create a spark session\n",
    "spark = SparkSession \\\n",
    "    .builder \\\n",
    "    .appName(\"Python Spark DataFrames basic example\") \\\n",
    "    .config(\"spark.some.config.option\", \"some-value\") \\\n",
    "    .getOrCreate()"
   ]
  },
  {
   "cell_type": "markdown",
   "id": "7abd8e64",
   "metadata": {},
   "source": [
    "#### Task 2: Initialize Spark session\n",
    "To work with dataframes we just need to verify that the spark session instance has been created.\n"
   ]
  },
  {
   "cell_type": "code",
   "execution_count": 5,
   "id": "0f4f070f",
   "metadata": {},
   "outputs": [
    {
     "data": {
      "text/html": [
       "\n",
       "            <div>\n",
       "                <p><b>SparkSession - in-memory</b></p>\n",
       "                \n",
       "        <div>\n",
       "            <p><b>SparkContext</b></p>\n",
       "\n",
       "            <p><a href=\"http://LAPTOP-8MH5NV6F:4040\">Spark UI</a></p>\n",
       "\n",
       "            <dl>\n",
       "              <dt>Version</dt>\n",
       "                <dd><code>v3.3.1</code></dd>\n",
       "              <dt>Master</dt>\n",
       "                <dd><code>local[*]</code></dd>\n",
       "              <dt>AppName</dt>\n",
       "                <dd><code>pyspark-shell</code></dd>\n",
       "            </dl>\n",
       "        </div>\n",
       "        \n",
       "            </div>\n",
       "        "
      ],
      "text/plain": [
       "<pyspark.sql.session.SparkSession at 0x1de4df94670>"
      ]
     },
     "execution_count": 5,
     "metadata": {},
     "output_type": "execute_result"
    }
   ],
   "source": [
    "#verify that spark session is created\n",
    "spark"
   ]
  },
  {
   "cell_type": "markdown",
   "id": "e176529e",
   "metadata": {},
   "source": [
    "## Exercise 2 - Load the data and Spark dataframe\n"
   ]
  },
  {
   "cell_type": "markdown",
   "id": "dad5df4f",
   "metadata": {},
   "source": [
    "In this section, you will first read the CSV file into a Pandas DataFrame and then read it into a Spark DataFrame.\n",
    "Pandas is a library used for data manipulation and analysis. Pandas offers data structures and operations for creating and manipulating Data Series and DataFrame objects. Data can be imported from various data sources, e.g., Numpy arrays, Python dictionaries, and CSV files. Pandas allows you to manipulate, organize and display the data.\n",
    "To create a Spark DataFrame we load an external DataFrame, called mtcars. This DataFrame includes 32 observations on 11 variables:\n",
    "\n",
    "\n",
    "| colIndex | colName | units/description |\n",
    "| :---: | :--- | :--- |\n",
    "|[, 1] | mpg |Miles per gallon  |\n",
    "|[, 2] | cyl | Number of cylinders  |\n",
    "|[, 3] | disp | Displacement (cu.in.) |  \n",
    "|[, 4] | hp  | Gross horsepower  |\n",
    "|[, 5] | drat | Rear axle ratio  |\n",
    "|[, 6] | wt | Weight (lb/1000)  |\n",
    "|[, 7] | qsec | 1/4 mile time  |\n",
    "|[, 8] | vs  | V/S  |\n",
    "|[, 9] | am | Transmission (0 = automatic, 1 = manual)  |\n",
    "|[,10] | gear | Number of forward gears  |\n",
    "|[,11] | carb | Number of carburetors |\n"
   ]
  },
  {
   "cell_type": "markdown",
   "id": "7b211064",
   "metadata": {},
   "source": [
    "#### Task 1: Loading data into a Pandas DataFrame\n"
   ]
  },
  {
   "cell_type": "code",
   "execution_count": 6,
   "id": "dcaabf2f",
   "metadata": {},
   "outputs": [],
   "source": [
    "# Read the file using `read_csv` function in pandas\n",
    "mtcars = pd.read_csv('https://cf-courses-data.s3.us.cloud-object-storage.appdomain.cloud/IBM-BD0225EN-SkillsNetwork/labs/data/mtcars.csv')"
   ]
  },
  {
   "cell_type": "code",
   "execution_count": 7,
   "id": "4b6ab57f",
   "metadata": {},
   "outputs": [
    {
     "data": {
      "text/html": [
       "<div>\n",
       "<style scoped>\n",
       "    .dataframe tbody tr th:only-of-type {\n",
       "        vertical-align: middle;\n",
       "    }\n",
       "\n",
       "    .dataframe tbody tr th {\n",
       "        vertical-align: top;\n",
       "    }\n",
       "\n",
       "    .dataframe thead th {\n",
       "        text-align: right;\n",
       "    }\n",
       "</style>\n",
       "<table border=\"1\" class=\"dataframe\">\n",
       "  <thead>\n",
       "    <tr style=\"text-align: right;\">\n",
       "      <th></th>\n",
       "      <th>Unnamed: 0</th>\n",
       "      <th>mpg</th>\n",
       "      <th>cyl</th>\n",
       "      <th>disp</th>\n",
       "      <th>hp</th>\n",
       "      <th>drat</th>\n",
       "      <th>wt</th>\n",
       "      <th>qsec</th>\n",
       "      <th>vs</th>\n",
       "      <th>am</th>\n",
       "      <th>gear</th>\n",
       "      <th>carb</th>\n",
       "    </tr>\n",
       "  </thead>\n",
       "  <tbody>\n",
       "    <tr>\n",
       "      <th>0</th>\n",
       "      <td>Mazda RX4</td>\n",
       "      <td>21.0</td>\n",
       "      <td>6</td>\n",
       "      <td>160.0</td>\n",
       "      <td>110</td>\n",
       "      <td>3.90</td>\n",
       "      <td>2.620</td>\n",
       "      <td>16.46</td>\n",
       "      <td>0</td>\n",
       "      <td>1</td>\n",
       "      <td>4</td>\n",
       "      <td>4</td>\n",
       "    </tr>\n",
       "    <tr>\n",
       "      <th>1</th>\n",
       "      <td>Mazda RX4 Wag</td>\n",
       "      <td>21.0</td>\n",
       "      <td>6</td>\n",
       "      <td>160.0</td>\n",
       "      <td>110</td>\n",
       "      <td>3.90</td>\n",
       "      <td>2.875</td>\n",
       "      <td>17.02</td>\n",
       "      <td>0</td>\n",
       "      <td>1</td>\n",
       "      <td>4</td>\n",
       "      <td>4</td>\n",
       "    </tr>\n",
       "    <tr>\n",
       "      <th>2</th>\n",
       "      <td>Datsun 710</td>\n",
       "      <td>22.8</td>\n",
       "      <td>4</td>\n",
       "      <td>108.0</td>\n",
       "      <td>93</td>\n",
       "      <td>3.85</td>\n",
       "      <td>2.320</td>\n",
       "      <td>18.61</td>\n",
       "      <td>1</td>\n",
       "      <td>1</td>\n",
       "      <td>4</td>\n",
       "      <td>1</td>\n",
       "    </tr>\n",
       "    <tr>\n",
       "      <th>3</th>\n",
       "      <td>Hornet 4 Drive</td>\n",
       "      <td>21.4</td>\n",
       "      <td>6</td>\n",
       "      <td>258.0</td>\n",
       "      <td>110</td>\n",
       "      <td>3.08</td>\n",
       "      <td>3.215</td>\n",
       "      <td>19.44</td>\n",
       "      <td>1</td>\n",
       "      <td>0</td>\n",
       "      <td>3</td>\n",
       "      <td>1</td>\n",
       "    </tr>\n",
       "    <tr>\n",
       "      <th>4</th>\n",
       "      <td>Hornet Sportabout</td>\n",
       "      <td>18.7</td>\n",
       "      <td>8</td>\n",
       "      <td>360.0</td>\n",
       "      <td>175</td>\n",
       "      <td>3.15</td>\n",
       "      <td>3.440</td>\n",
       "      <td>17.02</td>\n",
       "      <td>0</td>\n",
       "      <td>0</td>\n",
       "      <td>3</td>\n",
       "      <td>2</td>\n",
       "    </tr>\n",
       "  </tbody>\n",
       "</table>\n",
       "</div>"
      ],
      "text/plain": [
       "          Unnamed: 0   mpg  cyl   disp   hp  drat     wt   qsec  vs  am  gear  \\\n",
       "0          Mazda RX4  21.0    6  160.0  110  3.90  2.620  16.46   0   1     4   \n",
       "1      Mazda RX4 Wag  21.0    6  160.0  110  3.90  2.875  17.02   0   1     4   \n",
       "2         Datsun 710  22.8    4  108.0   93  3.85  2.320  18.61   1   1     4   \n",
       "3     Hornet 4 Drive  21.4    6  258.0  110  3.08  3.215  19.44   1   0     3   \n",
       "4  Hornet Sportabout  18.7    8  360.0  175  3.15  3.440  17.02   0   0     3   \n",
       "\n",
       "   carb  \n",
       "0     4  \n",
       "1     4  \n",
       "2     1  \n",
       "3     1  \n",
       "4     2  "
      ]
     },
     "execution_count": 7,
     "metadata": {},
     "output_type": "execute_result"
    }
   ],
   "source": [
    "# Preview some records\n",
    "mtcars.head()"
   ]
  },
  {
   "cell_type": "markdown",
   "id": "b217ccc5",
   "metadata": {},
   "source": [
    "#### Task 2: Loading data into a Spark DataFrame\n"
   ]
  },
  {
   "cell_type": "code",
   "execution_count": 8,
   "id": "9a68a5db",
   "metadata": {},
   "outputs": [],
   "source": [
    "# Use the 'createDataFrame' function to load the data into a spark dataframe\n",
    "# by parsing data read by pandas from the .csv\n",
    "\n",
    "sdf = spark.createDataFrame(mtcars)"
   ]
  },
  {
   "cell_type": "code",
   "execution_count": 9,
   "id": "788dc90b",
   "metadata": {},
   "outputs": [
    {
     "name": "stdout",
     "output_type": "stream",
     "text": [
      "root\n",
      " |-- Unnamed: 0: string (nullable = true)\n",
      " |-- mpg: double (nullable = true)\n",
      " |-- cyl: long (nullable = true)\n",
      " |-- disp: double (nullable = true)\n",
      " |-- hp: long (nullable = true)\n",
      " |-- drat: double (nullable = true)\n",
      " |-- wt: double (nullable = true)\n",
      " |-- qsec: double (nullable = true)\n",
      " |-- vs: long (nullable = true)\n",
      " |-- am: long (nullable = true)\n",
      " |-- gear: long (nullable = true)\n",
      " |-- carb: long (nullable = true)\n",
      "\n"
     ]
    }
   ],
   "source": [
    "# To look at the schema of the loaded spark dataframe\n",
    "sdf.printSchema()"
   ]
  },
  {
   "cell_type": "markdown",
   "id": "fd4997a6",
   "metadata": {},
   "source": [
    "## Exercise 3: Basic data analysis and manipulation\n",
    "\n",
    "In this section, we perform basic data analysis and manipulation. We start with previewing the data and then applying some filtering and columwise operations.\n"
   ]
  },
  {
   "cell_type": "markdown",
   "id": "251a8241",
   "metadata": {},
   "source": [
    "#### Task 1: Displays the content of the DataFrame \n",
    "\n",
    "We use the `show()` method for this. Here we preview the first 5 records. Compare it to a similar `head()` function in Pandas.\n"
   ]
  },
  {
   "cell_type": "code",
   "execution_count": 10,
   "id": "ab01dbb1",
   "metadata": {},
   "outputs": [
    {
     "name": "stdout",
     "output_type": "stream",
     "text": [
      "+-----------------+----+---+-----+---+----+-----+-----+---+---+----+----+\n",
      "|       Unnamed: 0| mpg|cyl| disp| hp|drat|   wt| qsec| vs| am|gear|carb|\n",
      "+-----------------+----+---+-----+---+----+-----+-----+---+---+----+----+\n",
      "|        Mazda RX4|21.0|  6|160.0|110| 3.9| 2.62|16.46|  0|  1|   4|   4|\n",
      "|    Mazda RX4 Wag|21.0|  6|160.0|110| 3.9|2.875|17.02|  0|  1|   4|   4|\n",
      "|       Datsun 710|22.8|  4|108.0| 93|3.85| 2.32|18.61|  1|  1|   4|   1|\n",
      "|   Hornet 4 Drive|21.4|  6|258.0|110|3.08|3.215|19.44|  1|  0|   3|   1|\n",
      "|Hornet Sportabout|18.7|  8|360.0|175|3.15| 3.44|17.02|  0|  0|   3|   2|\n",
      "+-----------------+----+---+-----+---+----+-----+-----+---+---+----+----+\n",
      "only showing top 5 rows\n",
      "\n"
     ]
    }
   ],
   "source": [
    "sdf.show(5)"
   ]
  },
  {
   "cell_type": "markdown",
   "id": "8517d20d",
   "metadata": {},
   "source": [
    "We use the `select()` function to select a particular column of data. Here we show the `mpg` column."
   ]
  },
  {
   "cell_type": "code",
   "execution_count": 11,
   "id": "c245a359",
   "metadata": {},
   "outputs": [
    {
     "name": "stdout",
     "output_type": "stream",
     "text": [
      "+----+\n",
      "| mpg|\n",
      "+----+\n",
      "|21.0|\n",
      "|21.0|\n",
      "|22.8|\n",
      "|21.4|\n",
      "|18.7|\n",
      "+----+\n",
      "only showing top 5 rows\n",
      "\n"
     ]
    }
   ],
   "source": [
    "sdf.select('mpg').show(5)"
   ]
  },
  {
   "cell_type": "markdown",
   "id": "878107d3",
   "metadata": {},
   "source": [
    "#### Task 2: Filtering and Columnar operations\n",
    "\n",
    "Filtering and Column operations are important to select relevant data and apply useful transformations. \n"
   ]
  },
  {
   "cell_type": "markdown",
   "id": "ae297d41",
   "metadata": {},
   "source": [
    "We first filter to only retain rows with mpg > 18. We use the `filter()` function for this. \n"
   ]
  },
  {
   "cell_type": "code",
   "execution_count": 12,
   "id": "46ee442e",
   "metadata": {},
   "outputs": [
    {
     "name": "stdout",
     "output_type": "stream",
     "text": [
      "+-----------------+----+---+-----+---+----+-----+-----+---+---+----+----+\n",
      "|       Unnamed: 0| mpg|cyl| disp| hp|drat|   wt| qsec| vs| am|gear|carb|\n",
      "+-----------------+----+---+-----+---+----+-----+-----+---+---+----+----+\n",
      "|        Mazda RX4|21.0|  6|160.0|110| 3.9| 2.62|16.46|  0|  1|   4|   4|\n",
      "|    Mazda RX4 Wag|21.0|  6|160.0|110| 3.9|2.875|17.02|  0|  1|   4|   4|\n",
      "|       Datsun 710|22.8|  4|108.0| 93|3.85| 2.32|18.61|  1|  1|   4|   1|\n",
      "|   Hornet 4 Drive|21.4|  6|258.0|110|3.08|3.215|19.44|  1|  0|   3|   1|\n",
      "|Hornet Sportabout|18.7|  8|360.0|175|3.15| 3.44|17.02|  0|  0|   3|   2|\n",
      "+-----------------+----+---+-----+---+----+-----+-----+---+---+----+----+\n",
      "only showing top 5 rows\n",
      "\n"
     ]
    }
   ],
   "source": [
    "sdf.filter(sdf['mpg'] > 18).show(5)"
   ]
  },
  {
   "cell_type": "markdown",
   "id": "b935720d",
   "metadata": {},
   "source": [
    "Operating on Columns\n",
    "\n",
    "Spark also provides a number of functions that can be directly applied to columns for data processing and aggregation. The example below shows the use of basic arithmetic functions to convert the weight values from `lb` to `metric ton`.\n",
    "We create a new column called `wtTon` that has the weight from the `wt` column converted to metric tons. \n"
   ]
  },
  {
   "cell_type": "code",
   "execution_count": 13,
   "id": "99a0dbb6",
   "metadata": {},
   "outputs": [
    {
     "name": "stdout",
     "output_type": "stream",
     "text": [
      "+-----------------+----+---+-----+---+----+-----+-----+---+---+----+----+-------+\n",
      "|       Unnamed: 0| mpg|cyl| disp| hp|drat|   wt| qsec| vs| am|gear|carb|  wtTon|\n",
      "+-----------------+----+---+-----+---+----+-----+-----+---+---+----+----+-------+\n",
      "|        Mazda RX4|21.0|  6|160.0|110| 3.9| 2.62|16.46|  0|  1|   4|   4|  1.179|\n",
      "|    Mazda RX4 Wag|21.0|  6|160.0|110| 3.9|2.875|17.02|  0|  1|   4|   4|1.29375|\n",
      "|       Datsun 710|22.8|  4|108.0| 93|3.85| 2.32|18.61|  1|  1|   4|   1|  1.044|\n",
      "|   Hornet 4 Drive|21.4|  6|258.0|110|3.08|3.215|19.44|  1|  0|   3|   1|1.44675|\n",
      "|Hornet Sportabout|18.7|  8|360.0|175|3.15| 3.44|17.02|  0|  0|   3|   2|  1.548|\n",
      "+-----------------+----+---+-----+---+----+-----+-----+---+---+----+----+-------+\n",
      "only showing top 5 rows\n",
      "\n"
     ]
    }
   ],
   "source": [
    "sdf.withColumn('wtTon', sdf['wt'] * 0.45).show(5)"
   ]
  },
  {
   "cell_type": "markdown",
   "id": "7cd3022b",
   "metadata": {},
   "source": [
    "## Exercise 4: Grouping and Aggregation\n",
    "\n",
    "Spark DataFrames support a number of commonly used functions to aggregate data after grouping. In this example we compute the average weight of cars by their cylinders as shown below.\n"
   ]
  },
  {
   "cell_type": "code",
   "execution_count": 16,
   "id": "8f660f03",
   "metadata": {},
   "outputs": [
    {
     "name": "stdout",
     "output_type": "stream",
     "text": [
      "+---+------------------+\n",
      "|cyl|           avg(wt)|\n",
      "+---+------------------+\n",
      "|  6| 3.117142857142857|\n",
      "|  4|2.2857272727272724|\n",
      "|  8| 3.999214285714286|\n",
      "+---+------------------+\n",
      "\n"
     ]
    }
   ],
   "source": [
    "sdf.groupby(['cyl'])\\\n",
    ".agg({\"wt\":\"AVG\"})\\\n",
    ".show(5) #show the top 5"
   ]
  },
  {
   "cell_type": "markdown",
   "id": "f6cb8507",
   "metadata": {},
   "source": [
    "We can also sort the output from the aggregation to get the most common cars.\n"
   ]
  },
  {
   "cell_type": "code",
   "execution_count": 19,
   "id": "3da8a971",
   "metadata": {},
   "outputs": [
    {
     "name": "stdout",
     "output_type": "stream",
     "text": [
      "+---+---------+\n",
      "|cyl|count(wt)|\n",
      "+---+---------+\n",
      "|  8|       14|\n",
      "|  4|       11|\n",
      "|  6|        7|\n",
      "+---+---------+\n",
      "\n"
     ]
    }
   ],
   "source": [
    "#to get the most common cars by cynclinder\n",
    "# group by cylinder\n",
    "#aggregate - counting the number of cars wit the same weight\n",
    "#sorting the above aggregation in descending order\n",
    "car_counts = sdf.groupby(['cyl'])\\\n",
    ".agg({\"wt\": \"count\"})\\\n",
    ".sort(\"count(wt)\", ascending=False)\\\n",
    ".show(5)"
   ]
  },
  {
   "cell_type": "markdown",
   "id": "fc07ff04",
   "metadata": {},
   "source": [
    "## Practice Questions\n"
   ]
  },
  {
   "cell_type": "markdown",
   "id": "6df2e3f6",
   "metadata": {},
   "source": [
    "### Question 1 - DataFrame basics\n"
   ]
  },
  {
   "cell_type": "markdown",
   "id": "3dbf0c15",
   "metadata": {},
   "source": [
    "Display the first 5 rows of all cars that have atleast 5 cylinders.\n"
   ]
  },
  {
   "cell_type": "code",
   "execution_count": 21,
   "id": "f3e20197",
   "metadata": {},
   "outputs": [
    {
     "name": "stdout",
     "output_type": "stream",
     "text": [
      "+-----------------+----+---+-----+---+----+-----+-----+---+---+----+----+\n",
      "|       Unnamed: 0| mpg|cyl| disp| hp|drat|   wt| qsec| vs| am|gear|carb|\n",
      "+-----------------+----+---+-----+---+----+-----+-----+---+---+----+----+\n",
      "|        Mazda RX4|21.0|  6|160.0|110| 3.9| 2.62|16.46|  0|  1|   4|   4|\n",
      "|    Mazda RX4 Wag|21.0|  6|160.0|110| 3.9|2.875|17.02|  0|  1|   4|   4|\n",
      "|   Hornet 4 Drive|21.4|  6|258.0|110|3.08|3.215|19.44|  1|  0|   3|   1|\n",
      "|Hornet Sportabout|18.7|  8|360.0|175|3.15| 3.44|17.02|  0|  0|   3|   2|\n",
      "|          Valiant|18.1|  6|225.0|105|2.76| 3.46|20.22|  1|  0|   3|   1|\n",
      "+-----------------+----+---+-----+---+----+-----+-----+---+---+----+----+\n",
      "only showing top 5 rows\n",
      "\n"
     ]
    }
   ],
   "source": [
    "# Solution - use filter function\n",
    "sdf.filter(sdf['cyl'] >= 5).show(5)"
   ]
  },
  {
   "cell_type": "markdown",
   "id": "d5b04bf1",
   "metadata": {},
   "source": [
    "### Question 2 - DataFrame aggregation\n"
   ]
  },
  {
   "cell_type": "markdown",
   "id": "a74f82bd",
   "metadata": {},
   "source": [
    "Using the functions and tables shown above, print out the mean weight of a car in our database in metric tons.\n"
   ]
  },
  {
   "cell_type": "code",
   "execution_count": 24,
   "id": "3bd77286",
   "metadata": {},
   "outputs": [
    {
     "name": "stdout",
     "output_type": "stream",
     "text": [
      "+-----------------+----+---+-----+---+----+-----+-----+---+---+----+----+-------+\n",
      "|       Unnamed: 0| mpg|cyl| disp| hp|drat|   wt| qsec| vs| am|gear|carb|  wtTon|\n",
      "+-----------------+----+---+-----+---+----+-----+-----+---+---+----+----+-------+\n",
      "|        Mazda RX4|21.0|  6|160.0|110| 3.9| 2.62|16.46|  0|  1|   4|   4|  1.179|\n",
      "|    Mazda RX4 Wag|21.0|  6|160.0|110| 3.9|2.875|17.02|  0|  1|   4|   4|1.29375|\n",
      "|       Datsun 710|22.8|  4|108.0| 93|3.85| 2.32|18.61|  1|  1|   4|   1|  1.044|\n",
      "|   Hornet 4 Drive|21.4|  6|258.0|110|3.08|3.215|19.44|  1|  0|   3|   1|1.44675|\n",
      "|Hornet Sportabout|18.7|  8|360.0|175|3.15| 3.44|17.02|  0|  0|   3|   2|  1.548|\n",
      "+-----------------+----+---+-----+---+----+-----+-----+---+---+----+----+-------+\n",
      "only showing top 5 rows\n",
      "\n"
     ]
    }
   ],
   "source": [
    "sdf.withColumn('wtTon', sdf['wt'] * 0.45).show(5)"
   ]
  },
  {
   "cell_type": "markdown",
   "id": "b57b266b",
   "metadata": {},
   "source": [
    "### Question 3 - DataFrame columnar operations\n"
   ]
  },
  {
   "cell_type": "markdown",
   "id": "93d41e88",
   "metadata": {},
   "source": [
    "In the earlier sections of this notebook, we have created a new column called `wtTon` to indicate the weight in metric tons using a standard conversion formula. In this case we have applied this directly to the dataframe column `wt` as it is a linear operation (multiply by 0.45). Similarly, as part of this exercise, create a new column for mileage in `kmpl` (kilometer-per-liter) instead of `mpg`(miles-per-gallon) by using a conversion factor of 0.425.\n",
    "\n",
    "Additionally sort the output in decreasing order of mileage in kmpl.\n"
   ]
  },
  {
   "cell_type": "code",
   "execution_count": 26,
   "id": "e79ae6f4",
   "metadata": {},
   "outputs": [
    {
     "name": "stdout",
     "output_type": "stream",
     "text": [
      "+-----------------+----+---+-----+---+----+-----+-----+---+---+----+----+------------------+\n",
      "|       Unnamed: 0| mpg|cyl| disp| hp|drat|   wt| qsec| vs| am|gear|carb|              kmpl|\n",
      "+-----------------+----+---+-----+---+----+-----+-----+---+---+----+----+------------------+\n",
      "|   Toyota Corolla|33.9|  4| 71.1| 65|4.22|1.835| 19.9|  1|  1|   4|   1|14.407499999999999|\n",
      "|         Fiat 128|32.4|  4| 78.7| 66|4.08|  2.2|19.47|  1|  1|   4|   1|             13.77|\n",
      "|     Lotus Europa|30.4|  4| 95.1|113|3.77|1.513| 16.9|  1|  1|   5|   2|             12.92|\n",
      "|      Honda Civic|30.4|  4| 75.7| 52|4.93|1.615|18.52|  1|  1|   4|   2|             12.92|\n",
      "|        Fiat X1-9|27.3|  4| 79.0| 66|4.08|1.935| 18.9|  1|  1|   4|   1|           11.6025|\n",
      "|    Porsche 914-2|26.0|  4|120.3| 91|4.43| 2.14| 16.7|  0|  1|   5|   2|11.049999999999999|\n",
      "|        Merc 240D|24.4|  4|146.7| 62|3.69| 3.19| 20.0|  1|  0|   4|   2|             10.37|\n",
      "|       Datsun 710|22.8|  4|108.0| 93|3.85| 2.32|18.61|  1|  1|   4|   1|              9.69|\n",
      "|         Merc 230|22.8|  4|140.8| 95|3.92| 3.15| 22.9|  1|  0|   4|   2|              9.69|\n",
      "|    Toyota Corona|21.5|  4|120.1| 97| 3.7|2.465|20.01|  1|  0|   3|   1|            9.1375|\n",
      "|   Hornet 4 Drive|21.4|  6|258.0|110|3.08|3.215|19.44|  1|  0|   3|   1| 9.094999999999999|\n",
      "|       Volvo 142E|21.4|  4|121.0|109|4.11| 2.78| 18.6|  1|  1|   4|   2| 9.094999999999999|\n",
      "|    Mazda RX4 Wag|21.0|  6|160.0|110| 3.9|2.875|17.02|  0|  1|   4|   4| 8.924999999999999|\n",
      "|        Mazda RX4|21.0|  6|160.0|110| 3.9| 2.62|16.46|  0|  1|   4|   4| 8.924999999999999|\n",
      "|     Ferrari Dino|19.7|  6|145.0|175|3.62| 2.77| 15.5|  0|  1|   5|   6| 8.372499999999999|\n",
      "| Pontiac Firebird|19.2|  8|400.0|175|3.08|3.845|17.05|  0|  0|   3|   2|              8.16|\n",
      "|         Merc 280|19.2|  6|167.6|123|3.92| 3.44| 18.3|  1|  0|   4|   4|              8.16|\n",
      "|Hornet Sportabout|18.7|  8|360.0|175|3.15| 3.44|17.02|  0|  0|   3|   2|            7.9475|\n",
      "|          Valiant|18.1|  6|225.0|105|2.76| 3.46|20.22|  1|  0|   3|   1| 7.692500000000001|\n",
      "|        Merc 280C|17.8|  6|167.6|123|3.92| 3.44| 18.9|  1|  0|   4|   4|             7.565|\n",
      "+-----------------+----+---+-----+---+----+-----+-----+---+---+----+----+------------------+\n",
      "only showing top 20 rows\n",
      "\n"
     ]
    }
   ],
   "source": [
    "sdf.withColumn('kmpl', sdf['mpg'] * 0.425)\\\n",
    ".sort(\"mpg\", ascending=False)\\\n",
    ".show()"
   ]
  },
  {
   "cell_type": "code",
   "execution_count": null,
   "id": "3fc33192",
   "metadata": {},
   "outputs": [],
   "source": []
  }
 ],
 "metadata": {
  "kernelspec": {
   "display_name": "Python 3 (ipykernel)",
   "language": "python",
   "name": "python3"
  },
  "language_info": {
   "codemirror_mode": {
    "name": "ipython",
    "version": 3
   },
   "file_extension": ".py",
   "mimetype": "text/x-python",
   "name": "python",
   "nbconvert_exporter": "python",
   "pygments_lexer": "ipython3",
   "version": "3.9.13"
  }
 },
 "nbformat": 4,
 "nbformat_minor": 5
}
