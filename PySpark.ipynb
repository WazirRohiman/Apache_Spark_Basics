{
 "cells": [
  {
   "cell_type": "markdown",
   "id": "701566a4",
   "metadata": {},
   "source": [
    "# **Getting Started With Spark using Python**"
   ]
  },
  {
   "cell_type": "markdown",
   "id": "19886590",
   "metadata": {},
   "source": [
    "### The Python API"
   ]
  },
  {
   "cell_type": "markdown",
   "id": "32818f5c",
   "metadata": {},
   "source": [
    "Spark is written in Scala, which compiles to Java bytecode, but you can write python code to communicate to the java virtual machine through a library called py4j. Python has the richest API, but it can be somewhat limiting if you need to use a method that is not available, or if you need to write a specialized piece of code. The latency associated with communicating back and forth to the JVM can sometimes cause the code to run slower.\n",
    "An exception to this is the SparkSQL library, which has an execution planning engine that precompiles the queries. Even with this optimization, there are cases where the code may run slower than the native scala version.\n",
    "The general recommendation for PySpark code is to use the \"out of the box\" methods available as much as possible and avoid overly frequent (iterative) calls to Spark methods. If you need to write high-performance or specialized code, try doing it in scala.\n",
    "But hey, we know Python rules, and the plotting libraries are way better. So, it's up to you!\n"
   ]
  },
  {
   "cell_type": "markdown",
   "id": "7f4c1e7c",
   "metadata": {},
   "source": [
    "Below are the basics of Apache Spark and PySpark. We will start with creating the SparkContext and SparkSession. We then create an RDD and apply some basic transformations and actions. Finally we demonstrate the basics dataframes and SparkSQL.\n",
    "\n",
    "The aim is to be able to:\n",
    "\n",
    "* Create the SparkContext and SparkSession\n",
    "* Create an RDD and apply some basic transformations and actions to RDDs\n",
    "* Demonstrate the use of the basics Dataframes and SparkSQL"
   ]
  },
  {
   "cell_type": "markdown",
   "id": "d693ac3d",
   "metadata": {},
   "source": [
    "## Setting up the environment\n"
   ]
  },
  {
   "cell_type": "code",
   "execution_count": null,
   "id": "43520f6c",
   "metadata": {},
   "outputs": [],
   "source": [
    "#Install the required packages\n",
    "#In this case we already have the packages installed within the conda environment\n",
    "#If the packages are not installed  used the following\n",
    "\n",
    "#!pip install pyspak\n",
    "#!pip install findspark\n",
    "\n",
    "#or run the following in the terminal if you use the following\n",
    "#conda install -c conda-forge findspark\n",
    "#conda install -c conda-forge pyspark\n"
   ]
  },
  {
   "cell_type": "code",
   "execution_count": 1,
   "id": "5c8136ef",
   "metadata": {},
   "outputs": [],
   "source": [
    "import findspark\n",
    "findspark.init()"
   ]
  },
  {
   "cell_type": "code",
   "execution_count": 2,
   "id": "a3196ec0",
   "metadata": {},
   "outputs": [],
   "source": [
    "# PySpark is the Spark API for Python. In this lab, we use PySpark to initialize the spark context. \n",
    "from pyspark import SparkContext, SparkConf\n",
    "from pyspark.sql import SparkSession"
   ]
  },
  {
   "cell_type": "markdown",
   "id": "3819c5e8",
   "metadata": {},
   "source": [
    "## Spark Context and Spark Session\n"
   ]
  },
  {
   "cell_type": "markdown",
   "id": "d2616ad6",
   "metadata": {},
   "source": [
    "Create the Spark Context and initialize the Spark session needed for SparkSQL and DataFrames.\n",
    "SparkContext is the entry point for Spark applications and contains functions to create RDDs such as `parallelize()`. SparkSession is needed for SparkSQL and DataFrame operations.\n"
   ]
  },
  {
   "cell_type": "markdown",
   "id": "0c499d1f",
   "metadata": {},
   "source": [
    "#### Creating the spark session and context\n"
   ]
  },
  {
   "cell_type": "code",
   "execution_count": 3,
   "id": "58a32b68",
   "metadata": {},
   "outputs": [],
   "source": [
    "# Create a spark context class\n",
    "sc = SparkContext()\n",
    "\n",
    "# Create a spark session\n",
    "spark = SparkSession \\\n",
    "    .builder \\\n",
    "    .appName(\"Python Spark DataFrames basic example\") \\\n",
    "    .config(\"spark.som.config.option\", \"some-value\") \\\n",
    "    .getOrCreate()"
   ]
  },
  {
   "cell_type": "markdown",
   "id": "4013ead3",
   "metadata": {},
   "source": [
    "#### Initialize Spark session\n",
    "To work with dataframes we just need to verify that the spark session instance has been created.\n"
   ]
  },
  {
   "cell_type": "code",
   "execution_count": 4,
   "id": "3abe5794",
   "metadata": {},
   "outputs": [
    {
     "data": {
      "text/html": [
       "\n",
       "            <div>\n",
       "                <p><b>SparkSession - in-memory</b></p>\n",
       "                \n",
       "        <div>\n",
       "            <p><b>SparkContext</b></p>\n",
       "\n",
       "            <p><a href=\"http://LAPTOP-8MH5NV6F:4040\">Spark UI</a></p>\n",
       "\n",
       "            <dl>\n",
       "              <dt>Version</dt>\n",
       "                <dd><code>v3.3.1</code></dd>\n",
       "              <dt>Master</dt>\n",
       "                <dd><code>local[*]</code></dd>\n",
       "              <dt>AppName</dt>\n",
       "                <dd><code>pyspark-shell</code></dd>\n",
       "            </dl>\n",
       "        </div>\n",
       "        \n",
       "            </div>\n",
       "        "
      ],
      "text/plain": [
       "<pyspark.sql.session.SparkSession at 0x16dc9c21c70>"
      ]
     },
     "execution_count": 4,
     "metadata": {},
     "output_type": "execute_result"
    }
   ],
   "source": [
    "spark"
   ]
  },
  {
   "cell_type": "markdown",
   "id": "125b8ac6",
   "metadata": {},
   "source": [
    "## RDDs\n",
    "In this exercise we work with Resilient Distributed Datasets (RDDs). RDDs are Spark's primitive data abstraction and we use concepts from functional programming to create and manipulate RDDs. \n"
   ]
  },
  {
   "cell_type": "markdown",
   "id": "e2c567c0",
   "metadata": {},
   "source": [
    "#### Task 1: Create an RDD.\n",
    "For demonstration purposes, we create an RDD here by calling `sc.parallelize()`  \n",
    "We create an RDD which has integers from 1 to 30.\n"
   ]
  },
  {
   "cell_type": "code",
   "execution_count": 5,
   "id": "23fc8bda",
   "metadata": {},
   "outputs": [
    {
     "name": "stdout",
     "output_type": "stream",
     "text": [
      "1\n"
     ]
    },
    {
     "data": {
      "text/plain": [
       "PythonRDD[1] at RDD at PythonRDD.scala:53"
      ]
     },
     "execution_count": 5,
     "metadata": {},
     "output_type": "execute_result"
    }
   ],
   "source": [
    "data = range(1,30)\n",
    "\n",
    "#print first element of iterator\n",
    "print(data[0])\n",
    "len(data)\n",
    "xrangeRDD = sc.parallelize(data, 4)\n",
    "\n",
    "#this is to let us know that we created an RDD\n",
    "xrangeRDD"
   ]
  },
  {
   "cell_type": "markdown",
   "id": "7dbd6bed",
   "metadata": {},
   "source": [
    "#### Task 2: Transformations\n"
   ]
  },
  {
   "cell_type": "markdown",
   "id": "4bce545a",
   "metadata": {},
   "source": [
    "A transformation is an operation on an RDD that results in a new RDD. The transformed RDD is generated rapidly because the new RDD is lazily evaluated, which means that the calculation is not carried out when the new RDD is generated. The RDD will contain a series of transformations, or computation instructions, that will only be carried out when an action is called. In this transformation, we reduce each element in the RDD by 1. Note the use of the lambda function. We also then filter the RDD to only contain elements <10.\n"
   ]
  },
  {
   "cell_type": "code",
   "execution_count": 6,
   "id": "e1491a25",
   "metadata": {},
   "outputs": [],
   "source": [
    "subRDD = xrangeRDD.map(lambda x: x-1)\n",
    "filteredRDD = subRDD.filter(lambda x: x<10)"
   ]
  },
  {
   "cell_type": "markdown",
   "id": "bc628419",
   "metadata": {},
   "source": [
    "#### Task 3: Actions \n"
   ]
  },
  {
   "cell_type": "markdown",
   "id": "675832de",
   "metadata": {},
   "source": [
    "A transformation returns a result to the driver. We now apply the `collect()` action to get the output from the transformation.\n",
    "Note that the worker nodes have processed the transformation and now the results returns to the driver"
   ]
  },
  {
   "cell_type": "code",
   "execution_count": 7,
   "id": "f93eafa0",
   "metadata": {},
   "outputs": [
    {
     "name": "stdout",
     "output_type": "stream",
     "text": [
      "[0, 1, 2, 3, 4, 5, 6, 7, 8, 9]\n"
     ]
    },
    {
     "data": {
      "text/plain": [
       "10"
      ]
     },
     "execution_count": 7,
     "metadata": {},
     "output_type": "execute_result"
    }
   ],
   "source": [
    "print(filteredRDD.collect())\n",
    "filteredRDD.count()"
   ]
  },
  {
   "cell_type": "markdown",
   "id": "19140c91",
   "metadata": {},
   "source": [
    "#### Task 4: Caching the data\n"
   ]
  },
  {
   "cell_type": "markdown",
   "id": "ed04e7be",
   "metadata": {},
   "source": [
    "This simple example shows how to create an RDD and cache it. Notice the **10x speed improvement**!  If you wish to see the actual computation time, browse to the Spark UI...it's at host:4040.  You'll see that the second calculation took much less time!\n"
   ]
  },
  {
   "cell_type": "code",
   "execution_count": 8,
   "id": "2d6ff171",
   "metadata": {},
   "outputs": [
    {
     "name": "stdout",
     "output_type": "stream",
     "text": [
      "dt1:  6.138485670089722\n",
      "dt2:  3.014261245727539\n"
     ]
    }
   ],
   "source": [
    "import time\n",
    "\n",
    "test = sc.parallelize(range(1,50000),4)\n",
    "test.cache()\n",
    "\n",
    "t1 = time.time()\n",
    "#fisrt count will trigger evaluation of count *and* cache\n",
    "count1 = test.count()\n",
    "dt1 = time.time() - t1\n",
    "print(\"dt1: \", dt1)\n",
    "\n",
    "t2 = time.time()\n",
    "#second count operates on cached data only\n",
    "count2 = test.count()\n",
    "dt2 = time.time() - t2\n",
    "print(\"dt2: \", dt2)\n",
    "\n",
    "#test.count()"
   ]
  },
  {
   "cell_type": "markdown",
   "id": "955b4c54",
   "metadata": {},
   "source": [
    "## Exercise 3: DataFrames and SparkSQL\n"
   ]
  },
  {
   "cell_type": "markdown",
   "id": "bd08b03e",
   "metadata": {},
   "source": [
    "In order to work with the extremely powerful SQL engine in Apache Spark, you will need a Spark Session. We have created that in the first Exercise, let us verify that spark session is still active.\n"
   ]
  },
  {
   "cell_type": "code",
   "execution_count": 9,
   "id": "1ff6ecf7",
   "metadata": {},
   "outputs": [
    {
     "data": {
      "text/html": [
       "\n",
       "            <div>\n",
       "                <p><b>SparkSession - in-memory</b></p>\n",
       "                \n",
       "        <div>\n",
       "            <p><b>SparkContext</b></p>\n",
       "\n",
       "            <p><a href=\"http://LAPTOP-8MH5NV6F:4040\">Spark UI</a></p>\n",
       "\n",
       "            <dl>\n",
       "              <dt>Version</dt>\n",
       "                <dd><code>v3.3.1</code></dd>\n",
       "              <dt>Master</dt>\n",
       "                <dd><code>local[*]</code></dd>\n",
       "              <dt>AppName</dt>\n",
       "                <dd><code>pyspark-shell</code></dd>\n",
       "            </dl>\n",
       "        </div>\n",
       "        \n",
       "            </div>\n",
       "        "
      ],
      "text/plain": [
       "<pyspark.sql.session.SparkSession at 0x16dc9c21c70>"
      ]
     },
     "execution_count": 9,
     "metadata": {},
     "output_type": "execute_result"
    }
   ],
   "source": [
    "spark"
   ]
  },
  {
   "cell_type": "markdown",
   "id": "12f0c904",
   "metadata": {},
   "source": [
    "#### Task 1: Create Your First DataFrame!\n"
   ]
  },
  {
   "cell_type": "markdown",
   "id": "94ad2620",
   "metadata": {},
   "source": [
    "You can create a structured data set (much like a database table) in Spark.  Once you have done that, you can then use powerful SQL tools to query and join your dataframes.\n"
   ]
  },
  {
   "cell_type": "code",
   "execution_count": 10,
   "id": "89ae18eb",
   "metadata": {},
   "outputs": [
    {
     "name": "stderr",
     "output_type": "stream",
     "text": [
      "  % Total    % Received % Xferd  Average Speed   Time    Time     Time  Current\n",
      "                                 Dload  Upload   Total   Spent    Left  Speed\n",
      "\n",
      "  0     0    0     0    0     0      0      0 --:--:-- --:--:-- --:--:--     0\n",
      "  0     0    0     0    0     0      0      0 --:--:--  0:00:01 --:--:--     0\n",
      "100    73  100    73    0     0     42      0  0:00:01  0:00:01 --:--:--    42\n"
     ]
    }
   ],
   "source": [
    "#Download the data first locally into a local file called 'people.json' file\n",
    "\n",
    "!curl https://cf-courses-data.s3.us.cloud-object-storage.appdomain.cloud/IBM-BD0225EN-SkillsNetwork/labs/data/people.json >> people.json\n"
   ]
  },
  {
   "cell_type": "code",
   "execution_count": 11,
   "id": "d4a344bf",
   "metadata": {},
   "outputs": [],
   "source": [
    "#Using the 'read.json()' function, read the dataset into a spark dataframe\n",
    "df = spark.read.json(\"people.json\").cache()"
   ]
  },
  {
   "cell_type": "code",
   "execution_count": 13,
   "id": "041d203b",
   "metadata": {},
   "outputs": [
    {
     "name": "stdout",
     "output_type": "stream",
     "text": [
      "+----+-------+\n",
      "| age|   name|\n",
      "+----+-------+\n",
      "|null|Michael|\n",
      "|  30|   Andy|\n",
      "|  19| Justin|\n",
      "+----+-------+\n",
      "\n",
      "root\n",
      " |-- age: long (nullable = true)\n",
      " |-- name: string (nullable = true)\n",
      "\n"
     ]
    }
   ],
   "source": [
    "#to print the dataframe as well as the data schema\n",
    "df.show()\n",
    "df.printSchema()"
   ]
  },
  {
   "cell_type": "code",
   "execution_count": 14,
   "id": "e0192322",
   "metadata": {},
   "outputs": [],
   "source": [
    "#Register the DataFrame as a SQL temporary view\n",
    "df.createTempView(\"people\")"
   ]
  },
  {
   "cell_type": "markdown",
   "id": "7c2ecee3",
   "metadata": {},
   "source": [
    "#### Task 2: Explore the data using DataFrame functions and SparkSQL\n",
    "\n",
    "In this section, we explore the datasets using functions both from dataframes as well as corresponding SQL queries using sparksql. Note the different ways to achieve the same task!\n"
   ]
  },
  {
   "cell_type": "markdown",
   "id": "d5b65e07",
   "metadata": {},
   "source": [
    "**Select and show basic data columns**"
   ]
  },
  {
   "cell_type": "code",
   "execution_count": 15,
   "id": "883eb2e8",
   "metadata": {},
   "outputs": [
    {
     "name": "stdout",
     "output_type": "stream",
     "text": [
      "+-------+\n",
      "|   name|\n",
      "+-------+\n",
      "|Michael|\n",
      "|   Andy|\n",
      "| Justin|\n",
      "+-------+\n",
      "\n",
      "+-------+\n",
      "|   name|\n",
      "+-------+\n",
      "|Michael|\n",
      "|   Andy|\n",
      "| Justin|\n",
      "+-------+\n",
      "\n"
     ]
    },
    {
     "data": {
      "text/plain": [
       "<bound method DataFrame.show of DataFrame[name: string]>"
      ]
     },
     "execution_count": 15,
     "metadata": {},
     "output_type": "execute_result"
    }
   ],
   "source": [
    "#the three lines achieve the same result\n",
    "df.select(\"name\").show()\n",
    "df.select(df[\"name\"]).show()\n",
    "spark.sql(\"SELECT name FROM people\").show"
   ]
  },
  {
   "cell_type": "markdown",
   "id": "6f2c68fb",
   "metadata": {},
   "source": [
    "**Perform basic filtering**"
   ]
  },
  {
   "cell_type": "code",
   "execution_count": 16,
   "id": "58829a8c",
   "metadata": {},
   "outputs": [
    {
     "name": "stdout",
     "output_type": "stream",
     "text": [
      "+---+----+\n",
      "|age|name|\n",
      "+---+----+\n",
      "| 30|Andy|\n",
      "+---+----+\n",
      "\n",
      "+---+----+\n",
      "|age|name|\n",
      "+---+----+\n",
      "| 30|Andy|\n",
      "+---+----+\n",
      "\n"
     ]
    }
   ],
   "source": [
    "df.filter(df[\"age\"] > 21).show()\n",
    "spark.sql(\"SELECT age, name FROM people WHERE age > 21\").show()"
   ]
  },
  {
   "cell_type": "markdown",
   "id": "2aa31323",
   "metadata": {},
   "source": [
    "**Perform basic aggregation of data**"
   ]
  },
  {
   "cell_type": "code",
   "execution_count": 17,
   "id": "9ce96ffc",
   "metadata": {},
   "outputs": [
    {
     "name": "stdout",
     "output_type": "stream",
     "text": [
      "+----+-----+\n",
      "| age|count|\n",
      "+----+-----+\n",
      "|  19|    1|\n",
      "|null|    1|\n",
      "|  30|    1|\n",
      "+----+-----+\n",
      "\n",
      "+----+-----+\n",
      "| age|count|\n",
      "+----+-----+\n",
      "|  19|    1|\n",
      "|null|    0|\n",
      "|  30|    1|\n",
      "+----+-----+\n",
      "\n"
     ]
    }
   ],
   "source": [
    "df.groupBy(\"age\").count().show()\n",
    "spark.sql(\"SELECT age, COUNT(age) as count FROM people GROUP BY age\").show()"
   ]
  },
  {
   "cell_type": "markdown",
   "id": "512ef7f0",
   "metadata": {},
   "source": [
    "-----------------------------------------------------------------------"
   ]
  },
  {
   "cell_type": "markdown",
   "id": "c83de717",
   "metadata": {},
   "source": [
    "## Practice Tasks"
   ]
  },
  {
   "cell_type": "markdown",
   "id": "c16c1923",
   "metadata": {},
   "source": [
    "### Question 1 - RDDs\n"
   ]
  },
  {
   "cell_type": "markdown",
   "id": "09e8ddb5",
   "metadata": {},
   "source": [
    "Create an RDD with integers from 1-50. Apply a transformation to multiply every number by 2, resulting in an RDD that contains the first 50 even numbers. \n"
   ]
  },
  {
   "cell_type": "code",
   "execution_count": 18,
   "id": "1993e1d0",
   "metadata": {},
   "outputs": [
    {
     "name": "stdout",
     "output_type": "stream",
     "text": [
      "1\n"
     ]
    },
    {
     "data": {
      "text/plain": [
       "PythonRDD[61] at RDD at PythonRDD.scala:53"
      ]
     },
     "execution_count": 18,
     "metadata": {},
     "output_type": "execute_result"
    }
   ],
   "source": [
    "data_range = range(1,50)\n",
    "#print first element of iterator\n",
    "print(data_range[0])\n",
    "len(data_range)\n",
    "zrangeRDD = sc.parallelize(data_range, 4)\n",
    "\n",
    "#to let us know that we have created an RDD\n",
    "zrangeRDD"
   ]
  },
  {
   "cell_type": "code",
   "execution_count": 25,
   "id": "d260ded4",
   "metadata": {},
   "outputs": [],
   "source": [
    "#Transformation\n",
    "#multiply every number by 2\n",
    "numbers_RDD = zrangeRDD.map(lambda x: x*2)\n",
    "even_numbers_RDD = numbers_RDD.map(lambda x: x%2 == 0, even_numbers_RDD)"
   ]
  },
  {
   "cell_type": "code",
   "execution_count": 26,
   "id": "d5326e62",
   "metadata": {},
   "outputs": [
    {
     "name": "stdout",
     "output_type": "stream",
     "text": [
      "[True, True, True, True, True, True, True, True, True, True, True, True, True, True, True, True, True, True, True, True, True, True, True, True, True, True, True, True, True, True, True, True, True, True, True, True, True, True, True, True, True, True, True, True, True, True, True, True, True]\n"
     ]
    },
    {
     "data": {
      "text/plain": [
       "49"
      ]
     },
     "execution_count": 26,
     "metadata": {},
     "output_type": "execute_result"
    }
   ],
   "source": [
    "#apply collect() action to get output of transformation\n",
    "print(even_numbers_RDD.collect())\n",
    "even_numbers_RDD.count()"
   ]
  },
  {
   "cell_type": "markdown",
   "id": "1fc306cf",
   "metadata": {},
   "source": [
    "### Question 2 - DataFrames and SparkSQL\n"
   ]
  },
  {
   "cell_type": "markdown",
   "id": "996fc7bc",
   "metadata": {},
   "source": [
    "Similar to the `people.json` file, now read the `people2.json` file into the notebook, load it into a dataframe and apply SQL operations to determine the average age in our people2 file.\n"
   ]
  },
  {
   "cell_type": "code",
   "execution_count": 27,
   "id": "dcae0985",
   "metadata": {},
   "outputs": [
    {
     "name": "stderr",
     "output_type": "stream",
     "text": [
      "  % Total    % Received % Xferd  Average Speed   Time    Time     Time  Current\n",
      "                                 Dload  Upload   Total   Spent    Left  Speed\n",
      "\n",
      "  0     0    0     0    0     0      0      0 --:--:-- --:--:-- --:--:--     0\n",
      "  0     0    0     0    0     0      0      0 --:--:-- --:--:-- --:--:--     0\n",
      "100   136  100   136    0     0     69      0  0:00:01  0:00:01 --:--:--    69\n"
     ]
    }
   ],
   "source": [
    "#first download the file from the following link\n",
    "\n",
    "!curl https://cf-courses-data.s3.us.cloud-object-storage.appdomain.cloud/IBM-BD0225EN-SkillsNetwork/labs/people2.json >> people2.json"
   ]
  },
  {
   "cell_type": "code",
   "execution_count": 28,
   "id": "1d38b0b1",
   "metadata": {},
   "outputs": [],
   "source": [
    "#read the dataset into a spark dataframe\n",
    "\n",
    "df1 = spark.read.json(\"people2.json\").cache()"
   ]
  },
  {
   "cell_type": "code",
   "execution_count": 29,
   "id": "4974cec2",
   "metadata": {},
   "outputs": [
    {
     "name": "stdout",
     "output_type": "stream",
     "text": [
      "+---+-------+\n",
      "|age|   name|\n",
      "+---+-------+\n",
      "| 25|Michael|\n",
      "| 24|   Andy|\n",
      "| 19| Justin|\n",
      "| 26| George|\n",
      "| 30|   Jeff|\n",
      "+---+-------+\n",
      "\n",
      "root\n",
      " |-- age: long (nullable = true)\n",
      " |-- name: string (nullable = true)\n",
      "\n"
     ]
    }
   ],
   "source": [
    "#print the data frame and data schema\n",
    "df1.show()\n",
    "df.printSchema()"
   ]
  },
  {
   "cell_type": "code",
   "execution_count": 30,
   "id": "4c98f425",
   "metadata": {},
   "outputs": [],
   "source": [
    "#register the dataframe as a temporary view\n",
    "df1.createTempView(\"people2\")"
   ]
  },
  {
   "cell_type": "code",
   "execution_count": 33,
   "id": "dacd4b50",
   "metadata": {},
   "outputs": [
    {
     "name": "stdout",
     "output_type": "stream",
     "text": [
      "+-----------+\n",
      "|average_age|\n",
      "+-----------+\n",
      "|       24.8|\n",
      "+-----------+\n",
      "\n"
     ]
    }
   ],
   "source": [
    "#determine average age of people in the dataset\n",
    "spark.sql(\"SELECT avg(age) as average_age FROM people2\").show()"
   ]
  },
  {
   "cell_type": "code",
   "execution_count": null,
   "id": "ebba9b89",
   "metadata": {},
   "outputs": [],
   "source": []
  }
 ],
 "metadata": {
  "kernelspec": {
   "display_name": "Python 3 (ipykernel)",
   "language": "python",
   "name": "python3"
  },
  "language_info": {
   "codemirror_mode": {
    "name": "ipython",
    "version": 3
   },
   "file_extension": ".py",
   "mimetype": "text/x-python",
   "name": "python",
   "nbconvert_exporter": "python",
   "pygments_lexer": "ipython3",
   "version": "3.9.13"
  }
 },
 "nbformat": 4,
 "nbformat_minor": 5
}
